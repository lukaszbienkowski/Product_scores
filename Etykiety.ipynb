{
 "cells": [
  {
   "cell_type": "markdown",
   "metadata": {},
   "source": [
    "<h2>READING PRODUCT LABELS USING MACHINE LEARNING TO ASSESS HEALTH IMPACT </h2><br/>\n",
    "This script will assign each product a score (Positive, Neutral or Negative), based on its ingredient list <br/>\n",
    "Scores will be scraped from czytamyetykiety.pl, a polish-language website collecting info about food items in Poland and their impact on consumer's health\n",
    "\n",
    "List of contents:\n",
    "1. Web Scraping (manual data collection from website)\n",
    "2. Data preparation and exploration\n",
    "3. Artificial Neural Networks - fitting and optimizing<br/>\n",
    "3.1 Modify input data<br/>\n",
    "3.2 Add Dropouts<br/>\n",
    "3.3 Modify loss function (Tensorflow)\n",
    "4. XGBoost"
   ]
  },
  {
   "cell_type": "code",
   "execution_count": 177,
   "metadata": {},
   "outputs": [],
   "source": [
    "import pandas as pd\n",
    "import numpy as np\n",
    "from requests import get\n",
    "from requests.exceptions import RequestException\n",
    "from contextlib import closing\n",
    "from bs4 import BeautifulSoup\n",
    "from sklearn.model_selection import train_test_split\n",
    "from sklearn.feature_extraction.text import TfidfVectorizer\n",
    "import matplotlib.pyplot as plt\n",
    "import re\n",
    "from keras.utils import to_categorical\n",
    "import itertools\n",
    "import csv\n",
    "import os\n",
    "import math\n",
    "import collections\n",
    "import tensorflow as tf\n",
    "# File names:\n",
    "urls_list_filename = 'url_list.txt'\n",
    "name_produkty = 'products_data.csv'"
   ]
  },
  {
   "cell_type": "markdown",
   "metadata": {},
   "source": [
    "<h2>1. WEB SCRAPING</h2>\n",
    "\n",
    "Here we will be collecting input data for our model. <br/>\n",
    "First we want to find out how many pages with products there are <br/>\n",
    "and after that, we will search through all the pages to find all active URLs"
   ]
  },
  {
   "cell_type": "code",
   "execution_count": 178,
   "metadata": {},
   "outputs": [],
   "source": [
    "# URL get function wrapper\n",
    "def get_url(url):\n",
    "    with closing(get(url, stream=True)) as resp:\n",
    "        return resp.content\n",
    "    \n",
    "# Find out how many pages there are. \n",
    "# At the bottom of the mainpage there are hyperlinks to the first, second, and last page.\n",
    "def how_many_pages(base_url):\n",
    "    raw_html = get_url(base_url)\n",
    "    html = BeautifulSoup(raw_html, 'html.parser')\n",
    "    urle = html.select('.page-numbers')\n",
    "    # The second to last link points to the last page - that's where we get the last page number\n",
    "    href = str(urle[-2])\n",
    "    number_begin = href.find('page/')\n",
    "    number_end = href.find('/?\"')\n",
    "    return href[number_begin+5:number_end]\n",
    "\n",
    "# Search through a page with product and collect urls from it\n",
    "def collect_urls(base_url, page_nr):\n",
    "    url = base_url + str(page_nr) + '/'\n",
    "    raw_html = get_url(url)\n",
    "    html = BeautifulSoup(raw_html, 'html.parser')\n",
    "    urls = html.select('.w2s-product-single-button')\n",
    "    urls = [str(u.get('href')) for u in urls]\n",
    "    return urls\n",
    "\n",
    "\n",
    "#base_url = 'https://czytamyetykiety.pl/products/page/' # OLD\n",
    "base_url = 'https://czytamyetykiety.pl/poznaj-wszystkie-nowe-produkty/page/'"
   ]
  },
  {
   "cell_type": "code",
   "execution_count": null,
   "metadata": {},
   "outputs": [],
   "source": [
    "last_page = int(how_many_pages(str(base_url+str(1))))\n",
    "urls_list = []\n",
    "for i in range(0, last_page+1):\n",
    "    try:\n",
    "        urls = collect_urls(base_url, i)\n",
    "        for url in urls:\n",
    "            urls_list.append(str(url))\n",
    "    except TypeError as WrongPage:\n",
    "        continue"
   ]
  },
  {
   "cell_type": "markdown",
   "metadata": {},
   "source": [
    "We have the url list now, so we can collect data from each of them. <br/>\n",
    "The data will be saved in a DataFrame with 3 columns\n",
    "- ingredients: list of ingredients as a string with spaces between ingredients\n",
    "- score: character string with the score (Pozytywna, Neutralna, Negatywna - polish words)\n",
    "- url\n",
    "\n",
    "Worth noting that some products have a percentage assigned to them (in string). <br/>\n",
    "We might need it later, so let's leave it as is\n",
    "\n",
    "\n",
    "<img src=\"skladniki_raw.png\" align=\"left\"/><br/><br/><br/><br/><br/><br/><br/>\n"
   ]
  },
  {
   "cell_type": "code",
   "execution_count": 105,
   "metadata": {},
   "outputs": [],
   "source": [
    "# Get the ingredients (a), score (b) and url (c) from url\n",
    "def url_to_list(url):\n",
    "    raw_html = get_url(url)\n",
    "    html = BeautifulSoup(raw_html, 'html.parser')\n",
    "    a = get_ingredients(html)\n",
    "    b = get_score(html)\n",
    "    c = url\n",
    "    return [a,b,c]\n",
    "\n",
    "# Get the ingredients vector (as saved in class .cn) \n",
    "def get_ingredients(html):\n",
    "    ingredients = [s.text for s in html.select('.cn')]\n",
    "    ing = [''.join(x.split(' ')) for x in ingredients]\n",
    "    i = ' '.join(ing)\n",
    "    return i\n",
    "\n",
    "# Get score (as saved in class .hastip) \n",
    "def get_score(html):\n",
    "    score_raw = html.select('.hastip')\n",
    "    if len(score_raw) == 0:\n",
    "        return(None)\n",
    "    score_raw = str(score_raw[0])\n",
    "    alt_block = score_raw.split(' ')[1]\n",
    "    score = alt_block[5:-1]\n",
    "    return(score)"
   ]
  },
  {
   "cell_type": "code",
   "execution_count": null,
   "metadata": {},
   "outputs": [],
   "source": [
    "all_products = []\n",
    "for i in range(0, len(urls_list)):\n",
    "    url = urls_list[i]\n",
    "    try:\n",
    "        new_product = url_to_list(url)\n",
    "    except TypeError as url_error:\n",
    "        continue\n",
    "    all_products.append(new_product)\n"
   ]
  },
  {
   "cell_type": "code",
   "execution_count": 180,
   "metadata": {},
   "outputs": [
    {
     "name": "stdout",
     "output_type": "stream",
     "text": [
      "17615 records in file\n",
      "14429 records without duplicates\n"
     ]
    }
   ],
   "source": [
    "#all_products = pd.read_csv(name_produkty,  header = None, names = ['ingredients', 'score', 'url'])\n",
    "print(str(len(all_products)) + ' records in file')\n",
    "all_products.dropna(inplace = True)\n",
    "# Let's drop duplicates, but not using the url column for this operation. Reason? \n",
    "# If there is more than one product with the same ingredients and score, but different name/url, it's not a new observation\n",
    "all_products.drop_duplicates(subset = ['ingredients', 'score'], inplace=True)\n",
    "print(str(len(all_products)) + ' records without duplicates')"
   ]
  },
  {
   "cell_type": "markdown",
   "metadata": {},
   "source": [
    "<h2> 2. DATA PREPARATION AND EXPLORATION </h2> <br/>\n",
    "To keep the records cleaner let's convert all ingredients to lowercase and get rid of punctuation. <br/>\n",
    "The punctuation characters can be imported from string.punctuation. We just want to keep the characters % and . for further use. <br/>\n",
    "More on that later."
   ]
  },
  {
   "cell_type": "code",
   "execution_count": 181,
   "metadata": {},
   "outputs": [
    {
     "data": {
      "text/html": [
       "<div>\n",
       "<style scoped>\n",
       "    .dataframe tbody tr th:only-of-type {\n",
       "        vertical-align: middle;\n",
       "    }\n",
       "\n",
       "    .dataframe tbody tr th {\n",
       "        vertical-align: top;\n",
       "    }\n",
       "\n",
       "    .dataframe thead th {\n",
       "        text-align: right;\n",
       "    }\n",
       "</style>\n",
       "<table border=\"1\" class=\"dataframe\">\n",
       "  <thead>\n",
       "    <tr style=\"text-align: right;\">\n",
       "      <th></th>\n",
       "      <th>ingredients</th>\n",
       "      <th>score</th>\n",
       "      <th>url</th>\n",
       "    </tr>\n",
       "  </thead>\n",
       "  <tbody>\n",
       "    <tr>\n",
       "      <th>0</th>\n",
       "      <td>cukier mąkapszenna olejeroślinnerzepakowy.palm...</td>\n",
       "      <td>Negatywne</td>\n",
       "      <td>https://czytamyetykiety.pl/products/milka-crun...</td>\n",
       "    </tr>\n",
       "    <tr>\n",
       "      <th>1</th>\n",
       "      <td>cukier mąkapszenna olejpalmowy olejrzepakowy s...</td>\n",
       "      <td>Negatywne</td>\n",
       "      <td>https://czytamyetykiety.pl/products/oreo-doubl...</td>\n",
       "    </tr>\n",
       "    <tr>\n",
       "      <th>2</th>\n",
       "      <td>mąkapszenna cukier olejeroślinnepalmowy.słonec...</td>\n",
       "      <td>Negatywne</td>\n",
       "      <td>https://czytamyetykiety.pl/products/oreo-ciast...</td>\n",
       "    </tr>\n",
       "    <tr>\n",
       "      <th>3</th>\n",
       "      <td>woda słódjęczmiennypilzneński chmielmarynka ch...</td>\n",
       "      <td>Pozytywne</td>\n",
       "      <td>https://czytamyetykiety.pl/products/zloty-lan-...</td>\n",
       "    </tr>\n",
       "    <tr>\n",
       "      <th>4</th>\n",
       "      <td>doprodukcjiużytowodę słódjęczmiennyorazchmiel</td>\n",
       "      <td>Pozytywne</td>\n",
       "      <td>https://czytamyetykiety.pl/products/zwierzynie...</td>\n",
       "    </tr>\n",
       "  </tbody>\n",
       "</table>\n",
       "</div>"
      ],
      "text/plain": [
       "                                         ingredients      score  \\\n",
       "0  cukier mąkapszenna olejeroślinnerzepakowy.palm...  Negatywne   \n",
       "1  cukier mąkapszenna olejpalmowy olejrzepakowy s...  Negatywne   \n",
       "2  mąkapszenna cukier olejeroślinnepalmowy.słonec...  Negatywne   \n",
       "3  woda słódjęczmiennypilzneński chmielmarynka ch...  Pozytywne   \n",
       "4      doprodukcjiużytowodę słódjęczmiennyorazchmiel  Pozytywne   \n",
       "\n",
       "                                                 url  \n",
       "0  https://czytamyetykiety.pl/products/milka-crun...  \n",
       "1  https://czytamyetykiety.pl/products/oreo-doubl...  \n",
       "2  https://czytamyetykiety.pl/products/oreo-ciast...  \n",
       "3  https://czytamyetykiety.pl/products/zloty-lan-...  \n",
       "4  https://czytamyetykiety.pl/products/zwierzynie...  "
      ]
     },
     "execution_count": 181,
     "metadata": {},
     "output_type": "execute_result"
    }
   ],
   "source": [
    "import string\n",
    "our_punc = string.punctuation.replace('%','').replace('.','')\n",
    "def rem_pun(s):\n",
    "    s = s.translate(str.maketrans('','',our_punc))\n",
    "    return s\n",
    "\n",
    "all_products['ingredients'] = all_products['ingredients'].apply(lambda s: s.lower())\n",
    "all_products['ingredients'] = all_products['ingredients'].apply(lambda s: rem_pun(s))\n",
    "all_products.head()"
   ]
  },
  {
   "cell_type": "markdown",
   "metadata": {},
   "source": [
    "Now we have a nice dataframe with ingredients and scores. <br/>\n",
    "What is the share of each score?"
   ]
  },
  {
   "cell_type": "code",
   "execution_count": 182,
   "metadata": {},
   "outputs": [
    {
     "data": {
      "image/png": "[encoded data removed]",
      "text/plain": [
       "<Figure size 432x288 with 1 Axes>"
      ]
     },
     "metadata": {},
     "output_type": "display_data"
    }
   ],
   "source": [
    "scores = all_products[['url', 'score']].groupby('score').count()\n",
    "plt.pie(scores['url'], autopct='%1.1f%%', labels = scores.index)\n",
    "plt.show()"
   ]
  },
  {
   "cell_type": "markdown",
   "metadata": {},
   "source": [
    "Not bad! Products labeled as negative account for only 20% of observations.<br/>\n",
    "Over 40% has no strictly negative or positive impact, and almost 40% are good for you! <br/>\n",
    "Let's see what are the most common ingredients"
   ]
  },
  {
   "cell_type": "code",
   "execution_count": 183,
   "metadata": {},
   "outputs": [
    {
     "data": {
      "text/plain": [
       "[('cukier', 6919),\n",
       " ('sól', 5885),\n",
       " ('woda', 4574),\n",
       " ('kwascytrynowye330', 3080),\n",
       " ('aromat', 2654),\n",
       " ('aromaty', 2604),\n",
       " ('mąkapszenna', 1751),\n",
       " ('syropglukozowy', 1548),\n",
       " ('lecytynasojowae322', 1350),\n",
       " ('przyprawy', 1221)]"
      ]
     },
     "execution_count": 183,
     "metadata": {},
     "output_type": "execute_result"
    }
   ],
   "source": [
    "from collections import Counter\n",
    "all_ingredients = [l  for skl in all_products['ingredients'] for l in skl.split(\" \")]\n",
    "Counter(all_ingredients).most_common(10)"
   ]
  },
  {
   "cell_type": "markdown",
   "metadata": {},
   "source": [
    "Those polish words mean stuff like sugar (cukier), sweeteners , conservants.. but also water and spices. <br/>\n",
    "Let's see what are the most popular ingredients depending on a score."
   ]
  },
  {
   "cell_type": "code",
   "execution_count": 184,
   "metadata": {},
   "outputs": [],
   "source": [
    "def most_popular(df, score, top_n):\n",
    "    words = [l  for ing in df[df['score'] == score]['ingredients'] for l in ing.split(\" \")]\n",
    "    countr = Counter(words).most_common(top_n)\n",
    "    return pd.DataFrame(countr, columns=(['ingredient','cnt']))"
   ]
  },
  {
   "cell_type": "code",
   "execution_count": 192,
   "metadata": {},
   "outputs": [
    {
     "data": {
      "text/html": [
       "<h3>Positive products: &nbsp;&nbsp;&nbsp; Neutral products: &nbsp;&nbsp;&nbsp;&nbsp Negative products: </h3><table style=\"display:inline-block\" border=\"1\" class=\"dataframe\">\n",
       "  <thead>\n",
       "    <tr style=\"text-align: right;\">\n",
       "      <th>ingredient</th>\n",
       "      <th>cnt</th>\n",
       "    </tr>\n",
       "  </thead>\n",
       "  <tbody>\n",
       "    <tr>\n",
       "      <td>sól</td>\n",
       "      <td>1608</td>\n",
       "    </tr>\n",
       "    <tr>\n",
       "      <td>woda</td>\n",
       "      <td>1293</td>\n",
       "    </tr>\n",
       "    <tr>\n",
       "      <td>cukier</td>\n",
       "      <td>1079</td>\n",
       "    </tr>\n",
       "    <tr>\n",
       "      <td>cebula</td>\n",
       "      <td>438</td>\n",
       "    </tr>\n",
       "    <tr>\n",
       "      <td>olejrzepakowy</td>\n",
       "      <td>364</td>\n",
       "    </tr>\n",
       "    <tr>\n",
       "      <td>przyprawy</td>\n",
       "      <td>351</td>\n",
       "    </tr>\n",
       "    <tr>\n",
       "      <td>czosnek</td>\n",
       "      <td>349</td>\n",
       "    </tr>\n",
       "    <tr>\n",
       "      <td>aromat</td>\n",
       "      <td>295</td>\n",
       "    </tr>\n",
       "    <tr>\n",
       "      <td>ocetspirytusowy</td>\n",
       "      <td>270</td>\n",
       "    </tr>\n",
       "    <tr>\n",
       "      <td>mąkapszenna</td>\n",
       "      <td>257</td>\n",
       "    </tr>\n",
       "  </tbody>\n",
       "</table style=\"display:inline-block\"><table style=\"display:inline-block\" border=\"1\" class=\"dataframe\">\n",
       "  <thead>\n",
       "    <tr style=\"text-align: right;\">\n",
       "      <th>ingredient</th>\n",
       "      <th>cnt</th>\n",
       "    </tr>\n",
       "  </thead>\n",
       "  <tbody>\n",
       "    <tr>\n",
       "      <td>cukier</td>\n",
       "      <td>3927</td>\n",
       "    </tr>\n",
       "    <tr>\n",
       "      <td>sól</td>\n",
       "      <td>2666</td>\n",
       "    </tr>\n",
       "    <tr>\n",
       "      <td>woda</td>\n",
       "      <td>1975</td>\n",
       "    </tr>\n",
       "    <tr>\n",
       "      <td>kwascytrynowye330</td>\n",
       "      <td>1616</td>\n",
       "    </tr>\n",
       "    <tr>\n",
       "      <td>aromat</td>\n",
       "      <td>1516</td>\n",
       "    </tr>\n",
       "    <tr>\n",
       "      <td>aromaty</td>\n",
       "      <td>1417</td>\n",
       "    </tr>\n",
       "    <tr>\n",
       "      <td>mąkapszenna</td>\n",
       "      <td>968</td>\n",
       "    </tr>\n",
       "    <tr>\n",
       "      <td>syropglukozowy</td>\n",
       "      <td>953</td>\n",
       "    </tr>\n",
       "    <tr>\n",
       "      <td>lecytynasojowae322</td>\n",
       "      <td>814</td>\n",
       "    </tr>\n",
       "    <tr>\n",
       "      <td>skrobiamodyfikowana</td>\n",
       "      <td>581</td>\n",
       "    </tr>\n",
       "  </tbody>\n",
       "</table style=\"display:inline-block\"><table style=\"display:inline-block\" border=\"1\" class=\"dataframe\">\n",
       "  <thead>\n",
       "    <tr style=\"text-align: right;\">\n",
       "      <th>ingredient</th>\n",
       "      <th>cnt</th>\n",
       "    </tr>\n",
       "  </thead>\n",
       "  <tbody>\n",
       "    <tr>\n",
       "      <td>cukier</td>\n",
       "      <td>1913</td>\n",
       "    </tr>\n",
       "    <tr>\n",
       "      <td>sól</td>\n",
       "      <td>1611</td>\n",
       "    </tr>\n",
       "    <tr>\n",
       "      <td>woda</td>\n",
       "      <td>1306</td>\n",
       "    </tr>\n",
       "    <tr>\n",
       "      <td>kwascytrynowye330</td>\n",
       "      <td>1214</td>\n",
       "    </tr>\n",
       "    <tr>\n",
       "      <td>aromaty</td>\n",
       "      <td>985</td>\n",
       "    </tr>\n",
       "    <tr>\n",
       "      <td>aromat</td>\n",
       "      <td>843</td>\n",
       "    </tr>\n",
       "    <tr>\n",
       "      <td>syropglukozowy</td>\n",
       "      <td>562</td>\n",
       "    </tr>\n",
       "    <tr>\n",
       "      <td>mąkapszenna</td>\n",
       "      <td>526</td>\n",
       "    </tr>\n",
       "    <tr>\n",
       "      <td>sorbinianpotasue202</td>\n",
       "      <td>473</td>\n",
       "    </tr>\n",
       "    <tr>\n",
       "      <td>maltodekstryna</td>\n",
       "      <td>461</td>\n",
       "    </tr>\n",
       "  </tbody>\n",
       "</table style=\"display:inline-block\">"
      ]
     },
     "metadata": {},
     "output_type": "display_data"
    }
   ],
   "source": [
    "poz = most_popular(all_products, 'Pozytywne', 10)\n",
    "neut = most_popular(all_products, 'Neutralne', 10)\n",
    "neg = most_popular(all_products, 'Negatywne', 10)\n",
    "\n",
    "from IPython.display import display_html\n",
    "tab_html = ('<h3>Positive products: &nbsp;&nbsp;&nbsp; Neutral products: &nbsp;&nbsp;&nbsp;&nbsp Negative products: </h3>' + \n",
    "            poz.to_html(index = False) + neut.to_html(index = False) + neg.to_html(index = False))\n",
    "display_html(tab_html.replace('table','table style=\"display:inline-block\"'),raw=True)"
   ]
  },
  {
   "cell_type": "markdown",
   "metadata": {},
   "source": [
    "Indeed - cukier (sugar) is lower on the list of positive than on the others.<br/>\n",
    "We can also find more unprocessed vegetables in the positive products. <br/>\n",
    "I'm sure there are even some ingredients that are only in positive or only in negative products:"
   ]
  },
  {
   "cell_type": "code",
   "execution_count": 186,
   "metadata": {},
   "outputs": [
    {
     "name": "stdout",
     "output_type": "stream",
     "text": [
      "Ingredients found in negative, but not in positive products:\n"
     ]
    },
    {
     "data": {
      "text/html": [
       "<div>\n",
       "<style scoped>\n",
       "    .dataframe tbody tr th:only-of-type {\n",
       "        vertical-align: middle;\n",
       "    }\n",
       "\n",
       "    .dataframe tbody tr th {\n",
       "        vertical-align: top;\n",
       "    }\n",
       "\n",
       "    .dataframe thead th {\n",
       "        text-align: right;\n",
       "    }\n",
       "</style>\n",
       "<table border=\"1\" class=\"dataframe\">\n",
       "  <thead>\n",
       "    <tr style=\"text-align: right;\">\n",
       "      <th></th>\n",
       "      <th>ingredient</th>\n",
       "      <th>cnt</th>\n",
       "    </tr>\n",
       "  </thead>\n",
       "  <tbody>\n",
       "    <tr>\n",
       "      <th>8</th>\n",
       "      <td>sorbinianpotasue202</td>\n",
       "      <td>473</td>\n",
       "    </tr>\n",
       "    <tr>\n",
       "      <th>14</th>\n",
       "      <td>glutaminiansodue621</td>\n",
       "      <td>376</td>\n",
       "    </tr>\n",
       "    <tr>\n",
       "      <th>16</th>\n",
       "      <td>syropglukozowofruktozowy</td>\n",
       "      <td>375</td>\n",
       "    </tr>\n",
       "    <tr>\n",
       "      <th>21</th>\n",
       "      <td>benzoesansodue211</td>\n",
       "      <td>270</td>\n",
       "    </tr>\n",
       "    <tr>\n",
       "      <th>28</th>\n",
       "      <td>glutaminianmonosodowye621</td>\n",
       "      <td>216</td>\n",
       "    </tr>\n",
       "    <tr>\n",
       "      <th>44</th>\n",
       "      <td>acesulfamke950</td>\n",
       "      <td>155</td>\n",
       "    </tr>\n",
       "    <tr>\n",
       "      <th>45</th>\n",
       "      <td>polirycynooleinianpoliglicerolue476</td>\n",
       "      <td>153</td>\n",
       "    </tr>\n",
       "    <tr>\n",
       "      <th>48</th>\n",
       "      <td>inozyniandisodowye631</td>\n",
       "      <td>137</td>\n",
       "    </tr>\n",
       "    <tr>\n",
       "      <th>51</th>\n",
       "      <td>aspartame951</td>\n",
       "      <td>126</td>\n",
       "    </tr>\n",
       "    <tr>\n",
       "      <th>53</th>\n",
       "      <td>guanylandisodowye627</td>\n",
       "      <td>124</td>\n",
       "    </tr>\n",
       "  </tbody>\n",
       "</table>\n",
       "</div>"
      ],
      "text/plain": [
       "                             ingredient  cnt\n",
       "8                   sorbinianpotasue202  473\n",
       "14                  glutaminiansodue621  376\n",
       "16             syropglukozowofruktozowy  375\n",
       "21                    benzoesansodue211  270\n",
       "28            glutaminianmonosodowye621  216\n",
       "44                       acesulfamke950  155\n",
       "45  polirycynooleinianpoliglicerolue476  153\n",
       "48                inozyniandisodowye631  137\n",
       "51                         aspartame951  126\n",
       "53                 guanylandisodowye627  124"
      ]
     },
     "metadata": {},
     "output_type": "display_data"
    },
    {
     "name": "stdout",
     "output_type": "stream",
     "text": [
      "And vice versa:\n"
     ]
    },
    {
     "data": {
      "text/html": [
       "<div>\n",
       "<style scoped>\n",
       "    .dataframe tbody tr th:only-of-type {\n",
       "        vertical-align: middle;\n",
       "    }\n",
       "\n",
       "    .dataframe tbody tr th {\n",
       "        vertical-align: top;\n",
       "    }\n",
       "\n",
       "    .dataframe thead th {\n",
       "        text-align: right;\n",
       "    }\n",
       "</style>\n",
       "<table border=\"1\" class=\"dataframe\">\n",
       "  <thead>\n",
       "    <tr style=\"text-align: right;\">\n",
       "      <th></th>\n",
       "      <th>ingredient</th>\n",
       "      <th>cnt</th>\n",
       "    </tr>\n",
       "  </thead>\n",
       "  <tbody>\n",
       "    <tr>\n",
       "      <th>23</th>\n",
       "      <td>zrolnictwaekologicznego</td>\n",
       "      <td>105</td>\n",
       "    </tr>\n",
       "    <tr>\n",
       "      <th>51</th>\n",
       "      <td>gorczycabiała</td>\n",
       "      <td>73</td>\n",
       "    </tr>\n",
       "    <tr>\n",
       "      <th>57</th>\n",
       "      <td>kwiathibiskusa</td>\n",
       "      <td>61</td>\n",
       "    </tr>\n",
       "    <tr>\n",
       "      <th>68</th>\n",
       "      <td>owocdzikiejróży</td>\n",
       "      <td>52</td>\n",
       "    </tr>\n",
       "    <tr>\n",
       "      <th>72</th>\n",
       "      <td>orzechynerkowca</td>\n",
       "      <td>48</td>\n",
       "    </tr>\n",
       "    <tr>\n",
       "      <th>77</th>\n",
       "      <td>daktyle</td>\n",
       "      <td>44</td>\n",
       "    </tr>\n",
       "    <tr>\n",
       "      <th>78</th>\n",
       "      <td>siemięlniane</td>\n",
       "      <td>44</td>\n",
       "    </tr>\n",
       "    <tr>\n",
       "      <th>83</th>\n",
       "      <td>hibiskus</td>\n",
       "      <td>41</td>\n",
       "    </tr>\n",
       "    <tr>\n",
       "      <th>99</th>\n",
       "      <td>herbataczarna</td>\n",
       "      <td>35</td>\n",
       "    </tr>\n",
       "    <tr>\n",
       "      <th>100</th>\n",
       "      <td>skórkapomarańczy</td>\n",
       "      <td>34</td>\n",
       "    </tr>\n",
       "  </tbody>\n",
       "</table>\n",
       "</div>"
      ],
      "text/plain": [
       "                  ingredient  cnt\n",
       "23   zrolnictwaekologicznego  105\n",
       "51             gorczycabiała   73\n",
       "57            kwiathibiskusa   61\n",
       "68           owocdzikiejróży   52\n",
       "72           orzechynerkowca   48\n",
       "77                   daktyle   44\n",
       "78              siemięlniane   44\n",
       "83                  hibiskus   41\n",
       "99             herbataczarna   35\n",
       "100         skórkapomarańczy   34"
      ]
     },
     "metadata": {},
     "output_type": "display_data"
    }
   ],
   "source": [
    "from IPython.display import display\n",
    "all_positive = most_popular(all_products, 'Pozytywne', 1000)\n",
    "all_neutral = most_popular(all_products, 'Neutralne', 1000)\n",
    "all_negative = most_popular(all_products, 'Negatywne', 1000)\n",
    "print('Ingredients found in negative, but not in positive products:')\n",
    "display(all_negative[~all_negative['ingredient'].isin(all_positive['ingredient'])].head(10))\n",
    "print('And vice versa:')\n",
    "display(all_positive[~all_positive['ingredient'].isin(all_negative['ingredient'])].head(10))"
   ]
  },
  {
   "cell_type": "markdown",
   "metadata": {},
   "source": [
    "Basically, the data looks quite promising with regards to our future model. So, let's get to work <br/>\n",
    "\n",
    "In order to work with text it's necessary to convert it to numbers.. <br/>\n",
    "\n",
    "The labels should be considered as categorical values. Let's convert the scores to numeric: 0, 1, 2 <br/>\n",
    "\n",
    "And to convert ingredients to numeric values we'll use a simple tokenizer from Keras. As we can see below, we have over 20000 unique ingredients. Limiting the size of the tokenized matrix will make the training faster and prevent overfitting.<br/>\n",
    "So let's limit the number of tokens to the ones with more than two occurences - that will be 3766.\n",
    "\n",
    "At last we can split the processed data into training (90%) and test (10%) sets"
   ]
  },
  {
   "cell_type": "code",
   "execution_count": 187,
   "metadata": {},
   "outputs": [
    {
     "name": "stdout",
     "output_type": "stream",
     "text": [
      "Number of features with at least 3 occurences is 3766\n",
      "There are 23072 unique features\n",
      "There are 141320 tokens. Setting max_features to 1000 keeps 75.0% tokens\n",
      "There are 141320 tokens. Setting max_features to 3766 keeps 84.0% tokens\n"
     ]
    }
   ],
   "source": [
    "def find_ingredients_with_more_than_k_occurences(k):\n",
    "    return len([y for x,y in Counter(all_ingredients).most_common(None) if y >= k])\n",
    "k = 3\n",
    "no_of_features = find_ingredients_with_more_than_one_occurence(k)\n",
    "print(\"Number of features with at least \" + str(k) + \" occurences is \" + str(no_of_features))\n",
    "\n",
    "def information_kept_when_setting_max_features(max_features):\n",
    "    sum_kept = sum([cnt for ing, cnt in Counter(all_ingredients).most_common(max_features)])\n",
    "    sum_all = sum(Counter(all_ingredients).values())\n",
    "    return ('There are ' + str(sum_all) + ' tokens. Setting max_features to ' + str(max_features) + ' keeps ' + \n",
    "            (str(round(sum_kept/sum_all,2) *100) + '%') + ' tokens')\n",
    "print(\"There are \" + str(len(Counter(all_ingredients))) + ' unique features')\n",
    "print(information_kept_when_setting_max_features(1000))\n",
    "print(information_kept_when_setting_max_features(no_of_features))"
   ]
  },
  {
   "cell_type": "code",
   "execution_count": 188,
   "metadata": {},
   "outputs": [
    {
     "name": "stdout",
     "output_type": "stream",
     "text": [
      "(12986, 3766)\n",
      "(1443, 3766)\n",
      "(12986, 3)\n",
      "(1443, 3)\n"
     ]
    }
   ],
   "source": [
    "from keras.preprocessing.text import Tokenizer\n",
    "# Scores\n",
    "labels = all_products[\"score\"]\n",
    "dictio = dict({\"Pozytywne\":2, \"Neutralne\":1,\"Negatywne\":0  })\n",
    "labels = [labels.apply(lambda x: int(dictio[x]))][0]\n",
    "labels = to_categorical(labels)\n",
    "\n",
    "# Ingredients\n",
    "corpus_text = all_products['ingredients']\n",
    "\n",
    "# Limiting the number of words\n",
    "tokenizer = Tokenizer(num_words = no_of_features)\n",
    "tokenizer.fit_on_texts(corpus_text)\n",
    "\n",
    "X_train, X_test, y_train, y_test = train_test_split(corpus_text, labels, test_size=0.1)\n",
    "X_train_tok = tokenizer.texts_to_matrix(X_train, mode = 'binary')\n",
    "X_test_tok = tokenizer.texts_to_matrix(X_test, mode = 'binary')\n",
    "\n",
    "print(X_train_tok.shape)\n",
    "print(X_test_tok.shape)\n",
    "print(y_train.shape)\n",
    "print(y_test.shape)"
   ]
  },
  {
   "cell_type": "markdown",
   "metadata": {},
   "source": [
    "<h2>3. Artificial Neural Networks </h2> <br/>\n",
    "These matrices can finally be fed to the ML algorithms. <br/>\n",
    "\n",
    "Before we train the first model, one more crucial thing: model scoring.<br/>\n",
    "In a classification problem, there are lots of metrics we can use. <br/>\n",
    "Let's define a function calculating 4 of the most common metrics, and another to calculate and plot a confusion matrix\n",
    "\n"
   ]
  },
  {
   "cell_type": "code",
   "execution_count": 176,
   "metadata": {},
   "outputs": [],
   "source": [
    "from sklearn.metrics import accuracy_score, f1_score, precision_score, recall_score, classification_report\n",
    "def get_metrics(y_test, y_pred):\n",
    "    # Precision - true_positive/(true_positive+false_positive)\n",
    "    precision = precision_score(y_test, y_pred, pos_label = None, average = 'weighted')\n",
    "    # Recall    = true_positive/(true_positive+false_negative)\n",
    "    recall    = recall_score(y_test, y_pred, pos_label = None, average = 'weighted')\n",
    "    # F1 - harmonic mean of precision and recall\n",
    "    f1 = f1_score(y_test, y_pred, pos_label = None, average = 'weighted')\n",
    "    # Accuracy = (true_positive + true_negative)/Total\n",
    "    accuracy = accuracy_score(y_test, y_pred)\n",
    "    return(precision, recall, f1, accuracy)\n",
    "\n",
    "# Confusion matrix\n",
    "from sklearn.metrics import confusion_matrix\n",
    "def plot_confusion_matrix(cm, classes, normalize = False, title = 'Confusion matrix', cmap = plt.cm.winter):\n",
    "    if normalize:\n",
    "        cm = cm.astype('float')/cm.sum(axis=1)\n",
    "    plt.imshow(cm, interpolation = 'nearest', cmap = cmap)\n",
    "    plt.title(title, fontsize = 30)\n",
    "    plt.colorbar()\n",
    "    tick_marks = np.arange(len(classes))\n",
    "    plt.xticks(tick_marks, classes, fontsize=20)\n",
    "    plt.yticks(tick_marks, classes, fontsize=20)\n",
    "    \n",
    "    fmt = '.0%' if normalize else 'd'\n",
    "    thresh = cm.max() / 2.\n",
    "\n",
    "    for i, j in itertools.product(range(cm.shape[0]), range(cm.shape[1])):\n",
    "        plt.text(j, i, format(cm[i, j], fmt), horizontalalignment=\"center\", \n",
    "                 color=\"white\" if cm[i, j] < thresh else \"black\", fontsize=20)\n",
    "    \n",
    "    plt.tight_layout()\n",
    "    plt.ylabel('True label', fontsize=30)\n",
    "    plt.xlabel('Predicted label', fontsize=30)\n",
    "\n",
    "    return plt"
   ]
  },
  {
   "cell_type": "markdown",
   "metadata": {},
   "source": [
    "To build a neural network we will use Keras, running on top of TensorFlow.<br/>\n",
    "\n",
    "Let's start with a simple network with one hidden layer. <br/>\n",
    "ADAM with a learning rate of 0.0001 and categorical crossentropy as loss function. <br/>\n",
    "These are pretty standard starting points.<br/>\n",
    "Let's give it 500 epochs to run on, if necessary. But there is also an EarlyStopping callback, making sure that we don't continue training if we don't see an improvement over 5 epochs."
   ]
  },
  {
   "cell_type": "code",
   "execution_count": 152,
   "metadata": {},
   "outputs": [
    {
     "name": "stdout",
     "output_type": "stream",
     "text": [
      "Train on 11687 samples, validate on 1299 samples\n",
      "Epoch 1/500\n",
      "11687/11687 [==============================] - 14s 1ms/step - loss: 0.7126 - acc: 0.6676 - val_loss: 0.5371 - val_acc: 0.7621\n",
      "Epoch 2/500\n",
      "11687/11687 [==============================] - 13s 1ms/step - loss: 0.4596 - acc: 0.8101 - val_loss: 0.5143 - val_acc: 0.7821\n",
      "Epoch 3/500\n",
      "11687/11687 [==============================] - 13s 1ms/step - loss: 0.3839 - acc: 0.8463 - val_loss: 0.5043 - val_acc: 0.7914\n",
      "Epoch 4/500\n",
      "11687/11687 [==============================] - 13s 1ms/step - loss: 0.3427 - acc: 0.8610 - val_loss: 0.5183 - val_acc: 0.7891\n",
      "Epoch 5/500\n",
      "11687/11687 [==============================] - 15s 1ms/step - loss: 0.3180 - acc: 0.8739 - val_loss: 0.5699 - val_acc: 0.7698\n",
      "Epoch 6/500\n",
      "11687/11687 [==============================] - 16s 1ms/step - loss: 0.2941 - acc: 0.8794 - val_loss: 0.5741 - val_acc: 0.7860\n",
      "Epoch 7/500\n",
      "11687/11687 [==============================] - 14s 1ms/step - loss: 0.2767 - acc: 0.8900 - val_loss: 0.6029 - val_acc: 0.7814\n",
      "Epoch 8/500\n",
      "11687/11687 [==============================] - 14s 1ms/step - loss: 0.2617 - acc: 0.8972 - val_loss: 0.6689 - val_acc: 0.7760\n"
     ]
    },
    {
     "data": {
      "text/plain": [
       "<keras.callbacks.History at 0x2e7044f3940>"
      ]
     },
     "execution_count": 152,
     "metadata": {},
     "output_type": "execute_result"
    }
   ],
   "source": [
    "from keras.models import Sequential\n",
    "from keras.layers import Dense, Dropout\n",
    "from keras.optimizers import Adam\n",
    "from keras.callbacks import EarlyStopping\n",
    "model = Sequential()\n",
    "model.add(Dense(512, activation = 'sigmoid', input_shape = (X_train_tok.shape[1],)))\n",
    "model.add(Dense(512, activation = 'sigmoid'))\n",
    "model.add(Dense(3, activation = 'softmax'))\n",
    "lr = 0.0001\n",
    "adam = Adam(lr = lr)\n",
    "model.compile(optimizer = 'adam', loss = 'categorical_crossentropy', metrics = ['accuracy'])\n",
    "ES = EarlyStopping(monitor='val_loss', min_delta=0, patience=5)\n",
    "model.fit(X_train_tok, y_train, epochs = 500, validation_split=0.1, batch_size = 32, callbacks=[ES])"
   ]
  },
  {
   "cell_type": "code",
   "execution_count": 153,
   "metadata": {},
   "outputs": [
    {
     "name": "stdout",
     "output_type": "stream",
     "text": [
      "Precision: 0.780, recall: 0.782, f1: 0.780, accuracy: 0.782\n"
     ]
    },
    {
     "data": {
      "text/plain": [
       "<module 'matplotlib.pyplot' from 'C:\\\\Users\\\\Lukasz\\\\Anaconda3\\\\lib\\\\site-packages\\\\matplotlib\\\\pyplot.py'>"
      ]
     },
     "execution_count": 153,
     "metadata": {},
     "output_type": "execute_result"
    },
    {
     "data": {
      "image/png": "[encoded data removed]",
      "text/plain": [
       "<Figure size 432x288 with 2 Axes>"
      ]
     },
     "metadata": {
      "needs_background": "light"
     },
     "output_type": "display_data"
    }
   ],
   "source": [
    "y_predict = model.predict_classes(X_test_tok)\n",
    "y_test_vals = y_test.argmax(axis = 1)\n",
    "precision, recall, f1, accuracy = get_metrics(y_test_vals, y_predict)\n",
    "print(\"Precision: %.3f, recall: %.3f, f1: %.3f, accuracy: %.3f\" % (precision, recall, f1, accuracy))\n",
    "\n",
    "conf_matrix = confusion_matrix(y_test_vals, y_predict)\n",
    "plot_confusion_matrix(conf_matrix, classes = set(y_test_vals))\n",
    "#plot_confusion_matrix(conf_matrix, classes = set(y_test_vals), normalize = True)"
   ]
  },
  {
   "cell_type": "markdown",
   "metadata": {},
   "source": [
    "This looks good, but not perfect. We are right in some 78% cases. The network seems to be overfitting to the train set quite quickly.\n",
    "Maybe we have too many unique features - we have not removed the percentage values, so each for example water_90% and water_99% are treated separately. Perhaps ingredients should be treated identically, no matter what their precentage values. Let's trim the ingredients to only include their names. Once we do this, we have to fit the tokenizer again and create the train and test sets again. Then, we can fit the model again."
   ]
  },
  {
   "cell_type": "code",
   "execution_count": 190,
   "metadata": {},
   "outputs": [
    {
     "name": "stdout",
     "output_type": "stream",
     "text": [
      "(12986, 3766)\n",
      "(1443, 3766)\n",
      "(12986, 3)\n",
      "(1443, 3)\n"
     ]
    }
   ],
   "source": [
    "def remove_percent(stri):\n",
    "    if type(stri) != str:\n",
    "        print(\"give me string!\")\n",
    "    if stri.find('%') > 0:\n",
    "        percent_start = np.where([x.isdigit() for x in stri])[0][0]\n",
    "        percent_end = np.where([x == '%' for x in stri])[0][0]\n",
    "        stri = str(stri[:percent_start] + stri[percent_end+1:])\n",
    "        return stri\n",
    "    else:\n",
    "        return stri\n",
    "\n",
    "all_products['ingredients_rp'] = all_products['ingredients'].apply(lambda x: ' '.join([remove_percent(y) for y in x.split(' ')]))\n",
    "\n",
    "# Ingredients\n",
    "corpus_text = all_products['ingredients_rp']\n",
    "\n",
    "# Limiting the number of words\n",
    "tokenizer = Tokenizer(num_words = no_of_features)\n",
    "tokenizer.fit_on_texts(corpus_text)\n",
    "corpus_text = tokenizer.texts_to_matrix(corpus_text, mode='binary')\n",
    "\n",
    "X_train_rp, X_test_rp, y_train, y_test = train_test_split(corpus_text, labels, test_size=0.1, random_state=30)"
   ]
  },
  {
   "cell_type": "markdown",
   "metadata": {},
   "source": [
    "We have the new tokenized vectors applied. <br/>\n",
    "For more generalization capabilities let's add two Dropout layers. It means that in each epoch a part of neurons (0.5 of them in our case) is set to zero (and not subject to backpropagation)<br/>\n",
    "By showing the model somewhat different data every time, Dropout should allow the model to generalize better  <br/>"
   ]
  },
  {
   "cell_type": "code",
   "execution_count": 155,
   "metadata": {},
   "outputs": [
    {
     "name": "stdout",
     "output_type": "stream",
     "text": [
      "Train on 11687 samples, validate on 1299 samples\n",
      "Epoch 1/500\n",
      "11687/11687 [==============================] - 14s 1ms/step - loss: 1.0642 - acc: 0.4195 - val_loss: 1.0592 - val_acc: 0.4003\n",
      "Epoch 2/500\n",
      "11687/11687 [==============================] - 14s 1ms/step - loss: 1.0356 - acc: 0.4582 - val_loss: 1.0091 - val_acc: 0.6328\n",
      "Epoch 3/500\n",
      "11687/11687 [==============================] - 14s 1ms/step - loss: 0.9523 - acc: 0.5587 - val_loss: 0.8415 - val_acc: 0.6305\n",
      "Epoch 4/500\n",
      "11687/11687 [==============================] - 16s 1ms/step - loss: 0.8193 - acc: 0.6279 - val_loss: 0.7120 - val_acc: 0.6428\n",
      "Epoch 5/500\n",
      "11687/11687 [==============================] - 18s 2ms/step - loss: 0.7375 - acc: 0.6595 - val_loss: 0.6647 - val_acc: 0.6628\n",
      "Epoch 6/500\n",
      "11687/11687 [==============================] - 17s 1ms/step - loss: 0.6951 - acc: 0.6790 - val_loss: 0.6384 - val_acc: 0.6836\n",
      "Epoch 7/500\n",
      "11687/11687 [==============================] - 17s 1ms/step - loss: 0.6696 - acc: 0.6997 - val_loss: 0.6181 - val_acc: 0.7152\n",
      "Epoch 8/500\n",
      "11687/11687 [==============================] - 18s 2ms/step - loss: 0.6486 - acc: 0.7063 - val_loss: 0.6098 - val_acc: 0.7059\n",
      "Epoch 9/500\n",
      "11687/11687 [==============================] - 17s 1ms/step - loss: 0.6320 - acc: 0.7198 - val_loss: 0.5908 - val_acc: 0.7244\n",
      "Epoch 10/500\n",
      "11687/11687 [==============================] - 16s 1ms/step - loss: 0.6198 - acc: 0.7205 - val_loss: 0.5807 - val_acc: 0.7259\n",
      "Epoch 11/500\n",
      "11687/11687 [==============================] - 14s 1ms/step - loss: 0.6025 - acc: 0.7384 - val_loss: 0.5681 - val_acc: 0.7406\n",
      "Epoch 12/500\n",
      "11687/11687 [==============================] - 15s 1ms/step - loss: 0.5881 - acc: 0.7499 - val_loss: 0.5593 - val_acc: 0.7436\n",
      "Epoch 13/500\n",
      "11687/11687 [==============================] - 19s 2ms/step - loss: 0.5850 - acc: 0.7456 - val_loss: 0.5473 - val_acc: 0.7560\n",
      "Epoch 14/500\n",
      "11687/11687 [==============================] - 17s 1ms/step - loss: 0.5661 - acc: 0.7558 - val_loss: 0.5398 - val_acc: 0.7621\n",
      "Epoch 15/500\n",
      "11687/11687 [==============================] - 16s 1ms/step - loss: 0.5570 - acc: 0.7679 - val_loss: 0.5348 - val_acc: 0.7590\n",
      "Epoch 16/500\n",
      "11687/11687 [==============================] - 15s 1ms/step - loss: 0.5497 - acc: 0.7680 - val_loss: 0.5239 - val_acc: 0.7729\n",
      "Epoch 17/500\n",
      "11687/11687 [==============================] - 15s 1ms/step - loss: 0.5380 - acc: 0.7703 - val_loss: 0.5204 - val_acc: 0.7660\n",
      "Epoch 18/500\n",
      "11687/11687 [==============================] - 16s 1ms/step - loss: 0.5330 - acc: 0.7762 - val_loss: 0.5103 - val_acc: 0.7821\n",
      "Epoch 19/500\n",
      "11687/11687 [==============================] - 18s 2ms/step - loss: 0.5263 - acc: 0.7787 - val_loss: 0.5070 - val_acc: 0.7837\n",
      "Epoch 20/500\n",
      "11687/11687 [==============================] - 16s 1ms/step - loss: 0.5230 - acc: 0.7782 - val_loss: 0.5033 - val_acc: 0.7844\n",
      "Epoch 21/500\n",
      "11687/11687 [==============================] - 17s 1ms/step - loss: 0.5089 - acc: 0.7886 - val_loss: 0.5017 - val_acc: 0.7806\n",
      "Epoch 22/500\n",
      "11687/11687 [==============================] - 17s 1ms/step - loss: 0.5056 - acc: 0.7903 - val_loss: 0.4929 - val_acc: 0.7868\n",
      "Epoch 23/500\n",
      "11687/11687 [==============================] - 16s 1ms/step - loss: 0.5002 - acc: 0.7901 - val_loss: 0.4891 - val_acc: 0.7883\n",
      "Epoch 24/500\n",
      "11687/11687 [==============================] - 15s 1ms/step - loss: 0.4920 - acc: 0.7954 - val_loss: 0.4887 - val_acc: 0.7860\n",
      "Epoch 25/500\n",
      "11687/11687 [==============================] - 14s 1ms/step - loss: 0.4916 - acc: 0.7932 - val_loss: 0.4884 - val_acc: 0.7921\n",
      "Epoch 26/500\n",
      "11687/11687 [==============================] - 14s 1ms/step - loss: 0.4824 - acc: 0.7999 - val_loss: 0.4883 - val_acc: 0.7906\n",
      "Epoch 27/500\n",
      "11687/11687 [==============================] - 15s 1ms/step - loss: 0.4748 - acc: 0.8071 - val_loss: 0.4805 - val_acc: 0.7960\n",
      "Epoch 28/500\n",
      "11687/11687 [==============================] - 15s 1ms/step - loss: 0.4717 - acc: 0.8053 - val_loss: 0.4838 - val_acc: 0.7914\n",
      "Epoch 29/500\n",
      "11687/11687 [==============================] - 15s 1ms/step - loss: 0.4743 - acc: 0.8055 - val_loss: 0.4786 - val_acc: 0.7952\n",
      "Epoch 30/500\n",
      "11687/11687 [==============================] - 14s 1ms/step - loss: 0.4676 - acc: 0.8066 - val_loss: 0.4768 - val_acc: 0.8022\n",
      "Epoch 31/500\n",
      "11687/11687 [==============================] - 14s 1ms/step - loss: 0.4634 - acc: 0.8109 - val_loss: 0.4830 - val_acc: 0.7945\n",
      "Epoch 32/500\n",
      "11687/11687 [==============================] - 14s 1ms/step - loss: 0.4596 - acc: 0.8123 - val_loss: 0.4764 - val_acc: 0.8022\n",
      "Epoch 33/500\n",
      "11687/11687 [==============================] - 15s 1ms/step - loss: 0.4503 - acc: 0.8157 - val_loss: 0.4737 - val_acc: 0.8052\n",
      "Epoch 34/500\n",
      "11687/11687 [==============================] - 15s 1ms/step - loss: 0.4531 - acc: 0.8136 - val_loss: 0.4742 - val_acc: 0.8029\n",
      "Epoch 35/500\n",
      "11687/11687 [==============================] - 15s 1ms/step - loss: 0.4510 - acc: 0.8144 - val_loss: 0.4744 - val_acc: 0.8022\n",
      "Epoch 36/500\n",
      "11687/11687 [==============================] - 15s 1ms/step - loss: 0.4479 - acc: 0.8186 - val_loss: 0.4736 - val_acc: 0.8052\n",
      "Epoch 37/500\n",
      "11687/11687 [==============================] - 17s 1ms/step - loss: 0.4453 - acc: 0.8185 - val_loss: 0.4697 - val_acc: 0.8052\n",
      "Epoch 38/500\n",
      "11687/11687 [==============================] - 17s 1ms/step - loss: 0.4320 - acc: 0.8229 - val_loss: 0.4754 - val_acc: 0.8060\n",
      "Epoch 39/500\n",
      "11687/11687 [==============================] - 16s 1ms/step - loss: 0.4393 - acc: 0.8203 - val_loss: 0.4677 - val_acc: 0.8045\n",
      "Epoch 40/500\n",
      "11687/11687 [==============================] - 15s 1ms/step - loss: 0.4318 - acc: 0.8246 - val_loss: 0.4684 - val_acc: 0.8083\n",
      "Epoch 41/500\n",
      "11687/11687 [==============================] - 15s 1ms/step - loss: 0.4263 - acc: 0.8254 - val_loss: 0.4661 - val_acc: 0.8114\n",
      "Epoch 42/500\n",
      "11687/11687 [==============================] - 16s 1ms/step - loss: 0.4270 - acc: 0.8240 - val_loss: 0.4658 - val_acc: 0.8083\n",
      "Epoch 43/500\n",
      "11687/11687 [==============================] - 14s 1ms/step - loss: 0.4194 - acc: 0.8269 - val_loss: 0.4658 - val_acc: 0.8037\n",
      "Epoch 44/500\n",
      "11687/11687 [==============================] - 15s 1ms/step - loss: 0.4180 - acc: 0.8296 - val_loss: 0.4691 - val_acc: 0.8068\n",
      "Epoch 45/500\n",
      "11687/11687 [==============================] - 14s 1ms/step - loss: 0.4196 - acc: 0.8310 - val_loss: 0.4716 - val_acc: 0.8045\n",
      "Epoch 46/500\n",
      "11687/11687 [==============================] - 17s 1ms/step - loss: 0.4176 - acc: 0.8271 - val_loss: 0.4693 - val_acc: 0.8083\n",
      "Epoch 47/500\n",
      "11687/11687 [==============================] - 17s 1ms/step - loss: 0.4105 - acc: 0.8296 - val_loss: 0.4736 - val_acc: 0.8052\n"
     ]
    },
    {
     "data": {
      "text/plain": [
       "<keras.callbacks.History at 0x2e70cf67ac8>"
      ]
     },
     "execution_count": 155,
     "metadata": {},
     "output_type": "execute_result"
    }
   ],
   "source": [
    "model = Sequential()\n",
    "model.add(Dense(512, activation = 'sigmoid', input_shape = (X_train_rp.shape[1],)))\n",
    "model.add(Dropout(0.5))\n",
    "model.add(Dense(512, activation = 'sigmoid'))\n",
    "model.add(Dropout(0.5))\n",
    "model.add(Dense(32, activation = 'sigmoid'))\n",
    "model.add(Dense(3, activation = 'softmax'))\n",
    "adam = Adam(lr = lr)\n",
    "model.compile(optimizer = adam, loss = 'categorical_crossentropy', metrics = ['accuracy'])\n",
    "ES = EarlyStopping(monitor='val_loss', min_delta=0, patience=5)\n",
    "model.fit(X_train_rp, y_train, epochs = 500, validation_split=0.1, batch_size = 32, callbacks=[ES])"
   ]
  },
  {
   "cell_type": "code",
   "execution_count": 157,
   "metadata": {},
   "outputs": [
    {
     "name": "stdout",
     "output_type": "stream",
     "text": [
      "Precision: 0.804, recall: 0.805, f1: 0.800, accuracy: 0.805\n"
     ]
    },
    {
     "data": {
      "text/plain": [
       "<module 'matplotlib.pyplot' from 'C:\\\\Users\\\\Lukasz\\\\Anaconda3\\\\lib\\\\site-packages\\\\matplotlib\\\\pyplot.py'>"
      ]
     },
     "execution_count": 157,
     "metadata": {},
     "output_type": "execute_result"
    },
    {
     "data": {
      "image/png": "[encoded data removed]",
      "text/plain": [
       "<Figure size 432x288 with 2 Axes>"
      ]
     },
     "metadata": {
      "needs_background": "light"
     },
     "output_type": "display_data"
    }
   ],
   "source": [
    "y_predict = model.predict_classes(X_test_rp)\n",
    "y_test_vals = y_test.argmax(axis = 1)\n",
    "precision, recall, f1, accuracy = metryki(y_test_vals, y_predict)\n",
    "print(\"Precision: %.3f, recall: %.3f, f1: %.3f, accuracy: %.3f\" % (precision, recall, f1, accuracy))\n",
    "\n",
    "conf_matrix = confusion_matrix(y_test_vals, y_predict)\n",
    "plot_confusion_matrix(conf_matrix, classes = set(y_test_vals))"
   ]
  },
  {
   "cell_type": "markdown",
   "metadata": {},
   "source": []
  },
  {
   "cell_type": "markdown",
   "metadata": {},
   "source": [
    "Better. We are now predicting over 80% of the test set observations correctly. <br/>\n",
    "If we are wrong, it's almost always a mistake of 1 'level'. 'Extreme' mistakes are very rare <br/>\n",
    "However, there is a lot of True 0 (Negative) products that our model labels as 1 (Neutral).<br/>\n",
    "\n",
    "To deal with it we can try to modify the loss function. \n",
    "Here is the default Keras crossentropy categorical_crossentropy https://github.com/keras-team/keras/blob/master/keras/backend/tensorflow_backend.py <br/>\n",
    "Here is the main part: \n",
    "        #scale preds so that the class probas of each sample sum to 1\n",
    "        output /= tf.reduce_sum(output, axis, True)\n",
    "        # manual computation of crossentropy\n",
    "        _epsilon = _to_tensor(epsilon(), output.dtype.base_dtype)\n",
    "        output = tf.clip_by_value(output, _epsilon, 1. - _epsilon)\n",
    "        return - tf.reduce_sum(target * tf.log(output), axis)\n",
    "        \n",
    "What we want to do is penalize 'extreme mistakes', by which we mean classifying a negative product as positive, or vice versa. <br/> \n",
    "by doing [target * tf.log(output)] we are in effect not considering 'how wrong' the network is, only 'how right'. Our idea here is therefore to add a second tensor T2 to the first one T1 (creating a new tensor TN), but calculated as an inverted (rotated) target matrix multiplied by a tensor calculated as (1 - output). (so NT Target 1T + inv(1T))  This way, the model gets a stronger incentive to be right about extreme (Negative and Positive) targets. <br/>\n",
    "I am copying here three functions from the Keras repository, to make the original function reproducible."
   ]
  },
  {
   "cell_type": "code",
   "execution_count": 191,
   "metadata": {},
   "outputs": [],
   "source": [
    "#https://github.com/keras-team/keras/blob/master/keras/backend/tensorflow_backend.py\n",
    "import tensorflow as tf\n",
    "_EPSILON = 1e-7\n",
    "def epsilon():\n",
    "    \"\"\"Returns the value of the fuzz factor used in numeric expressions.\n",
    "    # Returns\n",
    "        A float.\n",
    "    # Example\n",
    "    ```python\n",
    "        >>> keras.backend.epsilon()\n",
    "        1e-07\n",
    "    ```\n",
    "    \"\"\"\n",
    "    return _EPSILON\n",
    "\n",
    "def _to_tensor(x, dtype):\n",
    "    \"\"\"Convert the input `x` to a tensor of type `dtype`.\n",
    "    # Arguments\n",
    "        x: An object to be converted (numpy array, list, tensors).\n",
    "        dtype: The destination type.\n",
    "    # Returns\n",
    "        A tensor.\n",
    "    \"\"\"\n",
    "    return tf.convert_to_tensor(x, dtype=dtype)\n",
    "def cat_crossengropy(target,output, axis=-1):\n",
    "    # scale preds so that the class probas of each sample sum to 1\n",
    "    output /= tf.reduce_sum(output, axis, True)\n",
    "    # manual computation of crossentropy\n",
    "    _epsilon = _to_tensor(epsilon(), output.dtype.base_dtype)\n",
    "    output = tf.clip_by_value(output, _epsilon, 1. - _epsilon)\n",
    "    return - tf.reduce_sum(target * tf.log(output), axis)\n",
    "\n",
    "   \n",
    "\n",
    "def mc(bias):\n",
    "    def my_crossentropy(target, output, axis=-1):\n",
    "\n",
    "        #scale preds so that the class probas of each sample sum to 1\n",
    "        output /= tf.reduce_sum(output, axis, True)\n",
    "        #manual computation of crossentropy\n",
    "        _epsilon = _to_tensor(epsilon(), output.dtype.base_dtype)\n",
    "        output = tf.clip_by_value(output, _epsilon, 1. - _epsilon)\n",
    "        #new_output = tf.stack([output[:,0], tf.add(output[:,1],output[:,2]*bias), output[:,2]], axis = 1)\n",
    "        new_output = tf.stack([output[:,0], tf.add(tf.add(output[:,1],\n",
    "                                                   output[:,2]*bias),\n",
    "                                                   output[:,0]*bias), output[:,2]], axis = 1)\n",
    "        sums = tf.math.reduce_sum(new_output,axis=1)\n",
    "        reshaped = tf.reshape(sums, [-1,1])\n",
    "        #import pdb; pdb.set_trace()\n",
    "        \n",
    "        #broadcasted = tf.broadcast_to(reshaped, _to_tensor([None,3], 'int64'))\n",
    "        tiled = tf.tile(reshaped, [1,3])\n",
    "        normalized_output = tf.divide(new_output,tiled)\n",
    "        return  - tf.reduce_sum(target * tf.log(normalized_output), axis)\n",
    "    return my_crossentropy "
   ]
  },
  {
   "cell_type": "markdown",
   "metadata": {},
   "source": [
    "So prepared loss function can be fed to the model"
   ]
  },
  {
   "cell_type": "code",
   "execution_count": 162,
   "metadata": {},
   "outputs": [
    {
     "name": "stdout",
     "output_type": "stream",
     "text": [
      "Train on 11687 samples, validate on 1299 samples\n",
      "Epoch 1/500\n",
      "11687/11687 [==============================] - 15s 1ms/step - loss: 1.0592 - acc: 0.3869 - val_loss: 1.0710 - val_acc: 0.4003\n",
      "Epoch 2/500\n",
      "11687/11687 [==============================] - 13s 1ms/step - loss: 1.0478 - acc: 0.3875 - val_loss: 1.0465 - val_acc: 0.4003\n",
      "Epoch 3/500\n",
      "11687/11687 [==============================] - 14s 1ms/step - loss: 0.9805 - acc: 0.4772 - val_loss: 0.8718 - val_acc: 0.5912\n",
      "Epoch 4/500\n",
      "11687/11687 [==============================] - 14s 1ms/step - loss: 0.8145 - acc: 0.6377 - val_loss: 0.7322 - val_acc: 0.6313\n",
      "Epoch 5/500\n",
      "11687/11687 [==============================] - 15s 1ms/step - loss: 0.7325 - acc: 0.6619 - val_loss: 0.6925 - val_acc: 0.6428\n",
      "Epoch 6/500\n",
      "11687/11687 [==============================] - 15s 1ms/step - loss: 0.7005 - acc: 0.6689 - val_loss: 0.6698 - val_acc: 0.6590\n",
      "Epoch 7/500\n",
      "11687/11687 [==============================] - 15s 1ms/step - loss: 0.6796 - acc: 0.6881 - val_loss: 0.6529 - val_acc: 0.7105\n",
      "Epoch 8/500\n",
      "11687/11687 [==============================] - 15s 1ms/step - loss: 0.6686 - acc: 0.7005 - val_loss: 0.6413 - val_acc: 0.7013\n",
      "Epoch 9/500\n",
      "11687/11687 [==============================] - 15s 1ms/step - loss: 0.6532 - acc: 0.7069 - val_loss: 0.6270 - val_acc: 0.7167\n",
      "Epoch 10/500\n",
      "11687/11687 [==============================] - 15s 1ms/step - loss: 0.6388 - acc: 0.7133 - val_loss: 0.6172 - val_acc: 0.7213\n",
      "Epoch 11/500\n",
      "11687/11687 [==============================] - 16s 1ms/step - loss: 0.6307 - acc: 0.7187 - val_loss: 0.6077 - val_acc: 0.7283\n",
      "Epoch 12/500\n",
      "11687/11687 [==============================] - 15s 1ms/step - loss: 0.6218 - acc: 0.7227 - val_loss: 0.6010 - val_acc: 0.7329\n",
      "Epoch 13/500\n",
      "11687/11687 [==============================] - 16s 1ms/step - loss: 0.6157 - acc: 0.7297 - val_loss: 0.5926 - val_acc: 0.7352\n",
      "Epoch 14/500\n",
      "11687/11687 [==============================] - 16s 1ms/step - loss: 0.6037 - acc: 0.7365 - val_loss: 0.5835 - val_acc: 0.7413\n",
      "Epoch 15/500\n",
      "11687/11687 [==============================] - 16s 1ms/step - loss: 0.5995 - acc: 0.7365 - val_loss: 0.5791 - val_acc: 0.7452\n",
      "Epoch 16/500\n",
      "11687/11687 [==============================] - 16s 1ms/step - loss: 0.5953 - acc: 0.7424 - val_loss: 0.5733 - val_acc: 0.7467\n",
      "Epoch 17/500\n",
      "11687/11687 [==============================] - 16s 1ms/step - loss: 0.5837 - acc: 0.7477 - val_loss: 0.5682 - val_acc: 0.7529\n",
      "Epoch 18/500\n",
      "11687/11687 [==============================] - 17s 1ms/step - loss: 0.5786 - acc: 0.7513 - val_loss: 0.5661 - val_acc: 0.7537\n",
      "Epoch 19/500\n",
      "11687/11687 [==============================] - 15s 1ms/step - loss: 0.5765 - acc: 0.7544 - val_loss: 0.5587 - val_acc: 0.7537\n",
      "Epoch 20/500\n",
      "11687/11687 [==============================] - 15s 1ms/step - loss: 0.5720 - acc: 0.7568 - val_loss: 0.5551 - val_acc: 0.7575\n",
      "Epoch 21/500\n",
      "11687/11687 [==============================] - 15s 1ms/step - loss: 0.5631 - acc: 0.7628 - val_loss: 0.5562 - val_acc: 0.7590\n",
      "Epoch 22/500\n",
      "11687/11687 [==============================] - 15s 1ms/step - loss: 0.5597 - acc: 0.7662 - val_loss: 0.5491 - val_acc: 0.7629\n",
      "Epoch 23/500\n",
      "11687/11687 [==============================] - 15s 1ms/step - loss: 0.5568 - acc: 0.7654 - val_loss: 0.5470 - val_acc: 0.7667\n",
      "Epoch 24/500\n",
      "11687/11687 [==============================] - 15s 1ms/step - loss: 0.5520 - acc: 0.7721 - val_loss: 0.5444 - val_acc: 0.7660\n",
      "Epoch 25/500\n",
      "11687/11687 [==============================] - 15s 1ms/step - loss: 0.5403 - acc: 0.7778 - val_loss: 0.5442 - val_acc: 0.7691\n",
      "Epoch 26/500\n",
      "11687/11687 [==============================] - 15s 1ms/step - loss: 0.5425 - acc: 0.7760 - val_loss: 0.5402 - val_acc: 0.7706\n",
      "Epoch 27/500\n",
      "11687/11687 [==============================] - 17s 1ms/step - loss: 0.5369 - acc: 0.7786 - val_loss: 0.5370 - val_acc: 0.7698\n",
      "Epoch 28/500\n",
      "11687/11687 [==============================] - 19s 2ms/step - loss: 0.5375 - acc: 0.7813 - val_loss: 0.5373 - val_acc: 0.7729\n",
      "Epoch 29/500\n",
      "11687/11687 [==============================] - 20s 2ms/step - loss: 0.5249 - acc: 0.7847 - val_loss: 0.5327 - val_acc: 0.7729\n",
      "Epoch 30/500\n",
      "11687/11687 [==============================] - 17s 1ms/step - loss: 0.5218 - acc: 0.7868 - val_loss: 0.5321 - val_acc: 0.7837\n",
      "Epoch 31/500\n",
      "11687/11687 [==============================] - 16s 1ms/step - loss: 0.5241 - acc: 0.7881 - val_loss: 0.5301 - val_acc: 0.7806\n",
      "Epoch 32/500\n",
      "11687/11687 [==============================] - 16s 1ms/step - loss: 0.5201 - acc: 0.7910 - val_loss: 0.5277 - val_acc: 0.7829\n",
      "Epoch 33/500\n",
      "11687/11687 [==============================] - 16s 1ms/step - loss: 0.5165 - acc: 0.7889 - val_loss: 0.5278 - val_acc: 0.7821\n",
      "Epoch 34/500\n",
      "11687/11687 [==============================] - 16s 1ms/step - loss: 0.5114 - acc: 0.7953 - val_loss: 0.5273 - val_acc: 0.7844\n",
      "Epoch 35/500\n",
      "11687/11687 [==============================] - 16s 1ms/step - loss: 0.5098 - acc: 0.7975 - val_loss: 0.5248 - val_acc: 0.7821\n",
      "Epoch 36/500\n",
      "11687/11687 [==============================] - 16s 1ms/step - loss: 0.5067 - acc: 0.7960 - val_loss: 0.5227 - val_acc: 0.7868\n",
      "Epoch 37/500\n",
      "11687/11687 [==============================] - 16s 1ms/step - loss: 0.5066 - acc: 0.7987 - val_loss: 0.5207 - val_acc: 0.7883\n",
      "Epoch 38/500\n",
      "11687/11687 [==============================] - 16s 1ms/step - loss: 0.4983 - acc: 0.8045 - val_loss: 0.5212 - val_acc: 0.7875\n",
      "Epoch 39/500\n",
      "11687/11687 [==============================] - 16s 1ms/step - loss: 0.4953 - acc: 0.8030 - val_loss: 0.5185 - val_acc: 0.7929\n",
      "Epoch 40/500\n",
      "11687/11687 [==============================] - 17s 1ms/step - loss: 0.4985 - acc: 0.8026 - val_loss: 0.5173 - val_acc: 0.7875\n",
      "Epoch 41/500\n",
      "11687/11687 [==============================] - 16s 1ms/step - loss: 0.4935 - acc: 0.8047 - val_loss: 0.5162 - val_acc: 0.7914\n",
      "Epoch 42/500\n",
      "11687/11687 [==============================] - 18s 2ms/step - loss: 0.4889 - acc: 0.8069 - val_loss: 0.5151 - val_acc: 0.7929\n",
      "Epoch 43/500\n",
      "11687/11687 [==============================] - 16s 1ms/step - loss: 0.4879 - acc: 0.8101 - val_loss: 0.5143 - val_acc: 0.7914\n",
      "Epoch 44/500\n",
      "11687/11687 [==============================] - 15s 1ms/step - loss: 0.4852 - acc: 0.8125 - val_loss: 0.5135 - val_acc: 0.7945\n",
      "Epoch 45/500\n",
      "11687/11687 [==============================] - 15s 1ms/step - loss: 0.4791 - acc: 0.8136 - val_loss: 0.5149 - val_acc: 0.7960\n",
      "Epoch 46/500\n",
      "11687/11687 [==============================] - 15s 1ms/step - loss: 0.4799 - acc: 0.8111 - val_loss: 0.5124 - val_acc: 0.7952\n",
      "Epoch 47/500\n",
      "11687/11687 [==============================] - 16s 1ms/step - loss: 0.4788 - acc: 0.8145 - val_loss: 0.5114 - val_acc: 0.7952\n",
      "Epoch 48/500\n",
      "11687/11687 [==============================] - 17s 1ms/step - loss: 0.4701 - acc: 0.8207 - val_loss: 0.5105 - val_acc: 0.7968\n",
      "Epoch 49/500\n",
      "11687/11687 [==============================] - 18s 2ms/step - loss: 0.4721 - acc: 0.8167 - val_loss: 0.5091 - val_acc: 0.7975\n",
      "Epoch 50/500\n",
      "11687/11687 [==============================] - 17s 1ms/step - loss: 0.4665 - acc: 0.8207 - val_loss: 0.5101 - val_acc: 0.7945\n",
      "Epoch 51/500\n",
      "11687/11687 [==============================] - 16s 1ms/step - loss: 0.4709 - acc: 0.8176 - val_loss: 0.5084 - val_acc: 0.8014\n",
      "Epoch 52/500\n",
      "11687/11687 [==============================] - 17s 1ms/step - loss: 0.4686 - acc: 0.8193 - val_loss: 0.5081 - val_acc: 0.7991\n",
      "Epoch 53/500\n",
      "11687/11687 [==============================] - 17s 1ms/step - loss: 0.4626 - acc: 0.8213 - val_loss: 0.5081 - val_acc: 0.7968\n",
      "Epoch 54/500\n",
      "11687/11687 [==============================] - 17s 1ms/step - loss: 0.4583 - acc: 0.8277 - val_loss: 0.5096 - val_acc: 0.8006\n",
      "Epoch 55/500\n",
      "11687/11687 [==============================] - 17s 1ms/step - loss: 0.4635 - acc: 0.8236 - val_loss: 0.5070 - val_acc: 0.7991\n",
      "Epoch 56/500\n",
      "11687/11687 [==============================] - 17s 1ms/step - loss: 0.4589 - acc: 0.8245 - val_loss: 0.5064 - val_acc: 0.8052\n",
      "Epoch 57/500\n",
      "11687/11687 [==============================] - 17s 1ms/step - loss: 0.4583 - acc: 0.8242 - val_loss: 0.5061 - val_acc: 0.7991\n",
      "Epoch 58/500\n",
      "11687/11687 [==============================] - 16s 1ms/step - loss: 0.4560 - acc: 0.8251 - val_loss: 0.5065 - val_acc: 0.8006\n",
      "Epoch 59/500\n"
     ]
    },
    {
     "name": "stdout",
     "output_type": "stream",
     "text": [
      "11687/11687 [==============================] - 17s 1ms/step - loss: 0.4574 - acc: 0.8256 - val_loss: 0.5046 - val_acc: 0.8029\n",
      "Epoch 60/500\n",
      "11687/11687 [==============================] - 18s 2ms/step - loss: 0.4554 - acc: 0.8266 - val_loss: 0.5064 - val_acc: 0.8006\n",
      "Epoch 61/500\n",
      "11687/11687 [==============================] - 16s 1ms/step - loss: 0.4481 - acc: 0.8289 - val_loss: 0.5049 - val_acc: 0.8029\n",
      "Epoch 62/500\n",
      "11687/11687 [==============================] - 17s 1ms/step - loss: 0.4473 - acc: 0.8300 - val_loss: 0.5055 - val_acc: 0.7991\n",
      "Epoch 63/500\n",
      "11687/11687 [==============================] - 15s 1ms/step - loss: 0.4382 - acc: 0.8361 - val_loss: 0.5074 - val_acc: 0.8006\n",
      "Epoch 64/500\n",
      "11687/11687 [==============================] - 17s 1ms/step - loss: 0.4409 - acc: 0.8347 - val_loss: 0.5064 - val_acc: 0.8014\n"
     ]
    },
    {
     "data": {
      "text/plain": [
       "<keras.callbacks.History at 0x2e7570d3518>"
      ]
     },
     "execution_count": 162,
     "metadata": {},
     "output_type": "execute_result"
    }
   ],
   "source": [
    "model = Sequential()\n",
    "model.add(Dense(512, activation = 'sigmoid', input_shape = (X_train_rp.shape[1],)))\n",
    "model.add(Dropout(0.5))\n",
    "model.add(Dense(512, activation = 'sigmoid'))\n",
    "model.add(Dropout(0.5))\n",
    "model.add(Dense(32, activation = 'sigmoid'))\n",
    "model.add(Dense(32, activation = 'sigmoid'))\n",
    "\n",
    "model.add(Dense(3, activation = 'softmax'))\n",
    "adam = Adam(lr = lr)\n",
    "mc_bias = mc(bias = 0.2)\n",
    "model.compile(optimizer = adam, loss = mc_bias, metrics = ['accuracy'])\n",
    "ES = EarlyStopping(monitor='val_loss', min_delta=0, patience=5)\n",
    "model.fit(X_train_rp, y_train, epochs = 500, validation_split=0.1, batch_size = 32, callbacks=[ES])"
   ]
  },
  {
   "cell_type": "code",
   "execution_count": 163,
   "metadata": {},
   "outputs": [
    {
     "name": "stdout",
     "output_type": "stream",
     "text": [
      "Precision: 0.810, recall: 0.813, f1: 0.810, accuracy: 0.813\n"
     ]
    },
    {
     "data": {
      "text/plain": [
       "<module 'matplotlib.pyplot' from 'C:\\\\Users\\\\Lukasz\\\\Anaconda3\\\\lib\\\\site-packages\\\\matplotlib\\\\pyplot.py'>"
      ]
     },
     "execution_count": 163,
     "metadata": {},
     "output_type": "execute_result"
    },
    {
     "data": {
      "image/png": "[encoded data removed]",
      "text/plain": [
       "<Figure size 432x288 with 2 Axes>"
      ]
     },
     "metadata": {
      "needs_background": "light"
     },
     "output_type": "display_data"
    }
   ],
   "source": [
    "y_predict = model.predict_classes(X_test_rp)\n",
    "y_test_vals = y_test.argmax(axis = 1)\n",
    "precision, recall, f1, accuracy = metryki(y_test_vals, y_predict)\n",
    "print(\"Precision: %.3f, recall: %.3f, f1: %.3f, accuracy: %.3f\" % (precision, recall, f1, accuracy))\n",
    "\n",
    "conf_matrix = confusion_matrix(y_test_vals, y_predict)\n",
    "plot_confusion_matrix(conf_matrix, classes = set(y_test_vals))\n",
    "\n",
    "\n",
    "    "
   ]
  },
  {
   "cell_type": "markdown",
   "metadata": {},
   "source": [
    "It did improve the results slightly.  <br/>\n",
    "Considering that the data inputs are made by humans, we can accept that they might be inconsistent and not fully predictable. Over 81% accuracy and no extrem mistakes can be considered really good.\n",
    "\n",
    "But let's see one more model, this time using a different technique - a very popular XGBoost algorithm.\n",
    "<h2> 4. XGBoost </h2>"
   ]
  },
  {
   "cell_type": "code",
   "execution_count": 164,
   "metadata": {},
   "outputs": [
    {
     "data": {
      "text/plain": [
       "XGBClassifier(base_score=0.5, booster='gbtree', colsample_bylevel=1,\n",
       "       colsample_bytree=0.8, gamma=0, learning_rate=0.3, max_delta_step=0,\n",
       "       max_depth=10, min_child_weight=1, missing=None, n_estimators=100,\n",
       "       n_jobs=1, nthread=10, objective='multi:softprob', random_state=0,\n",
       "       reg_alpha=0, reg_lambda=1, scale_pos_weight=1, seed=None,\n",
       "       silent=True, subsample=0.8)"
      ]
     },
     "execution_count": 164,
     "metadata": {},
     "output_type": "execute_result"
    }
   ],
   "source": [
    "import xgboost as xgb\n",
    "labels_xgb = all_products[\"score\"]\n",
    "X_train_xgb, X_test_xgb, y_train_xgb, y_test_xgb = train_test_split(corpus_text, labels_xgb, test_size=0.1, random_state=30)\n",
    "clf = xgb.XGBClassifier(max_depth=10, n_estimators=100, colsample_bytree=0.8, \n",
    "                        subsample=0.8, nthread=10, learning_rate=0.3, booster = 'gbtree')\n",
    "clf.fit(X_train_xgb, y_train_xgb)"
   ]
  },
  {
   "cell_type": "code",
   "execution_count": 166,
   "metadata": {},
   "outputs": [
    {
     "name": "stdout",
     "output_type": "stream",
     "text": [
      "Precision: 0.814, recall: 0.815, f1: 0.813, accuracy: 0.815\n"
     ]
    }
   ],
   "source": [
    "predictions = clf.predict(X_test_xgb)\n",
    "precision, recall, f1, accuracy = metryki(y_test_xgb, predictions)\n",
    "print(\"Precision: %.3f, recall: %.3f, f1: %.3f, accuracy: %.3f\" % (precision, recall, f1, accuracy))"
   ]
  },
  {
   "cell_type": "markdown",
   "metadata": {},
   "source": [
    "This looks very similar to what our best NN model did. <br/>\n",
    "The final thought is that we can predict over 81% of product scores correctly. <br/>\n",
    "Thank you"
   ]
  }
 ],
 "metadata": {
  "kernelspec": {
   "display_name": "Python 3",
   "language": "python",
   "name": "python3"
  },
  "language_info": {
   "codemirror_mode": {
    "name": "ipython",
    "version": 3
   },
   "file_extension": ".py",
   "mimetype": "text/x-python",
   "name": "python",
   "nbconvert_exporter": "python",
   "pygments_lexer": "ipython3",
   "version": "3.7.1"
  }
 },
 "nbformat": 4,
 "nbformat_minor": 2
}
